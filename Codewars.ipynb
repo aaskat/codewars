{
 "cells": [
  {
   "cell_type": "code",
   "execution_count": 1,
   "metadata": {
    "collapsed": true
   },
   "outputs": [],
   "source": [
    "def disemvowel(string):\n",
    "    vowels = \"AEIOUaeiou\"\n",
    "    result = \"\"\n",
    "    for letter in string:\n",
    "        if letter not in vowels:\n",
    "            result += letter\n",
    "    return result"
   ]
  },
  {
   "cell_type": "code",
   "execution_count": 2,
   "metadata": {},
   "outputs": [
    {
     "data": {
      "text/plain": [
       "'Ths wbst s fr lsrs LL!'"
      ]
     },
     "execution_count": 2,
     "metadata": {},
     "output_type": "execute_result"
    }
   ],
   "source": [
    "disemvowel(\"This website is for losers LOL!\")"
   ]
  },
  {
   "cell_type": "code",
   "execution_count": 3,
   "metadata": {
    "collapsed": true
   },
   "outputs": [],
   "source": [
    "def toJadenCase(string):\n",
    "    local = \"\"\n",
    "    for i in range(len(string)):\n",
    "        if string[i - 1] == ' ' or i == 0:\n",
    "            local += string[i].upper()\n",
    "        else:\n",
    "            local += string[i]\n",
    "    return local"
   ]
  },
  {
   "cell_type": "code",
   "execution_count": 4,
   "metadata": {},
   "outputs": [
    {
     "data": {
      "text/plain": [
       "\"How Can Mirrors Be Real If Our Eyes Aren't Real\""
      ]
     },
     "execution_count": 4,
     "metadata": {},
     "output_type": "execute_result"
    }
   ],
   "source": [
    "s = toJadenCase(\"how can mirrors be real if our eyes aren't real\")\n",
    "s"
   ]
  },
  {
   "cell_type": "code",
   "execution_count": 5,
   "metadata": {
    "collapsed": true
   },
   "outputs": [],
   "source": [
    "def toJadenCase1(string):\n",
    "    return ' '.join(x.capitalize() for x in string.split())"
   ]
  },
  {
   "cell_type": "code",
   "execution_count": 6,
   "metadata": {},
   "outputs": [
    {
     "data": {
      "text/plain": [
       "\"How Can Mirrors Be Real If Our Eyes Aren't Real\""
      ]
     },
     "execution_count": 6,
     "metadata": {},
     "output_type": "execute_result"
    }
   ],
   "source": [
    "s = toJadenCase1(\"how can mirrors be real if our eyes aren't real\")\n",
    "s"
   ]
  },
  {
   "cell_type": "code",
   "execution_count": 7,
   "metadata": {},
   "outputs": [],
   "source": [
    "def meeting(rooms, number):\n",
    "    if number == 0:\n",
    "        return 'Game On'\n",
    "    \n",
    "    rooms = [[len(x), y] for x, y in rooms]\n",
    "\n",
    "    results = []\n",
    "    localNumber = number\n",
    "    for room in rooms:\n",
    "        available = room[1] - room[0]\n",
    "        a = min(max(0, available), localNumber)\n",
    "        localNumber -= a\n",
    "        results.append(a)\n",
    "        print(results)\n",
    "        if sum(results) == number:\n",
    "            return results\n",
    "    return \"Not enough!\""
   ]
  },
  {
   "cell_type": "code",
   "execution_count": 8,
   "metadata": {},
   "outputs": [
    {
     "name": "stdout",
     "output_type": "stream",
     "text": [
      "[3]\n",
      "[3, 1]\n"
     ]
    },
    {
     "data": {
      "text/plain": [
       "[3, 1]"
      ]
     },
     "execution_count": 8,
     "metadata": {},
     "output_type": "execute_result"
    }
   ],
   "source": [
    "a = meeting([['XX', 5], ['XX', 5], ['XXXXXXXXXX', 8], ['XXXXX', 8], ['XXXXXXXXXX', 4], ['XXXXXXXXXX', 10]], 4)\n",
    "a"
   ]
  },
  {
   "cell_type": "code",
   "execution_count": 9,
   "metadata": {
    "collapsed": true
   },
   "outputs": [],
   "source": [
    "def nb_year(p0, percent, aug, p):\n",
    "    year = 0\n",
    "    while p0 < p:\n",
    "        p0 = p0 + int(p0 * (percent/100)) + aug\n",
    "        year += 1\n",
    "    return year"
   ]
  },
  {
   "cell_type": "code",
   "execution_count": 10,
   "metadata": {},
   "outputs": [
    {
     "data": {
      "text/plain": [
       "10"
      ]
     },
     "execution_count": 10,
     "metadata": {},
     "output_type": "execute_result"
    }
   ],
   "source": [
    "nb_year(1500000, 2.5, 10000, 2000000)"
   ]
  },
  {
   "cell_type": "code",
   "execution_count": 11,
   "metadata": {},
   "outputs": [],
   "source": [
    "def binary_array_to_number(arr):\n",
    "    return int(''.join([str(i) for i in arr]), 2)"
   ]
  },
  {
   "cell_type": "code",
   "execution_count": 12,
   "metadata": {},
   "outputs": [
    {
     "data": {
      "text/plain": [
       "15"
      ]
     },
     "execution_count": 12,
     "metadata": {},
     "output_type": "execute_result"
    }
   ],
   "source": [
    "binary_array_to_number([1,1,1,1])"
   ]
  },
  {
   "cell_type": "code",
   "execution_count": 13,
   "metadata": {},
   "outputs": [],
   "source": [
    "import math\n",
    "def factorial(n):\n",
    "    if n == 1:\n",
    "        return 1\n",
    "    return n * factorial(n - 1)\n",
    "\n",
    "def going(n):\n",
    "    return round((1 / math.factorial(n)) * sum([math.factorial(i) for i in range(1, n + 1)]), 6)"
   ]
  },
  {
   "cell_type": "code",
   "execution_count": 14,
   "metadata": {},
   "outputs": [
    {
     "data": {
      "text/plain": [
       "1.146652"
      ]
     },
     "execution_count": 14,
     "metadata": {},
     "output_type": "execute_result"
    }
   ],
   "source": [
    "going(8)"
   ]
  },
  {
   "cell_type": "code",
   "execution_count": 15,
   "metadata": {},
   "outputs": [],
   "source": [
    "def increment_string(strng):\n",
    "    \n",
    "    num = \"\"\n",
    "    for i in range(len(strng)):\n",
    "        if strng[i].isdigit():\n",
    "            num += strng[i]\n",
    "        else:\n",
    "            num = \"\"\n",
    "    ln = -len(num) if num else len(strng)\n",
    "    num = num if num else \"0\"\n",
    "    return strng[:ln] + str(int(num) + 1).rjust(len(num), \"0\")"
   ]
  },
  {
   "cell_type": "code",
   "execution_count": 16,
   "metadata": {},
   "outputs": [
    {
     "data": {
      "text/plain": [
       "'foobar1'"
      ]
     },
     "execution_count": 16,
     "metadata": {},
     "output_type": "execute_result"
    }
   ],
   "source": [
    "increment_string(\"foobar\")"
   ]
  },
  {
   "cell_type": "code",
   "execution_count": 17,
   "metadata": {},
   "outputs": [],
   "source": [
    "def withdraw(n):\n",
    "    dispense = []\n",
    "    banknote = {0:100, 1:50, 2:20}\n",
    "    for i in range(0,3):\n",
    "        mod = n%banknote[i]\n",
    "        if mod < banknote.get(i + 1, 20) and mod != 0:\n",
    "            dispense.append(0)\n",
    "            continue\n",
    "        dispense.append((n - mod) // banknote[i])\n",
    "        n = mod\n",
    "    return dispense"
   ]
  },
  {
   "cell_type": "code",
   "execution_count": 18,
   "metadata": {},
   "outputs": [],
   "source": [
    "def move_zeros(arr):\n",
    "    l = [i for i in arr if isinstance(i, bool) or i!=0]\n",
    "    return l+[0]*(len(arr)-len(l))"
   ]
  },
  {
   "cell_type": "code",
   "execution_count": 19,
   "metadata": {},
   "outputs": [],
   "source": [
    "def move_zeros(array):\n",
    "    if array == []:\n",
    "        return []\n",
    "    zeros = []\n",
    "    other = []\n",
    "    for element in array:\n",
    "        if element is not False and element == 0:\n",
    "            zeros.append(0)\n",
    "            continue\n",
    "        other.append(element)\n",
    "    return other + zeros      "
   ]
  },
  {
   "cell_type": "code",
   "execution_count": 20,
   "metadata": {},
   "outputs": [
    {
     "data": {
      "text/plain": [
       "['a',\n",
       " 'b',\n",
       " None,\n",
       " 'c',\n",
       " 'd',\n",
       " 1,\n",
       " False,\n",
       " 1,\n",
       " 3,\n",
       " [],\n",
       " 1,\n",
       " 9,\n",
       " {},\n",
       " 9,\n",
       " 0,\n",
       " 0,\n",
       " 0,\n",
       " 0,\n",
       " 0,\n",
       " 0,\n",
       " 0,\n",
       " 0,\n",
       " 0,\n",
       " 0]"
      ]
     },
     "execution_count": 20,
     "metadata": {},
     "output_type": "execute_result"
    }
   ],
   "source": [
    "move_zeros([\"a\",0.0,0,\"b\",None,\"c\",\"d\",0,1,False,0,1,0,3,[],0,1,9,0,0,{},0,0,9])"
   ]
  },
  {
   "cell_type": "code",
   "execution_count": 21,
   "metadata": {},
   "outputs": [],
   "source": [
    "import re\n",
    "def solution(string, markers):\n",
    "    if len(markers) == 0:\n",
    "        return string\n",
    "    print(string)\n",
    "    \n",
    "    re_symbols = set('.^$*+?-')\n",
    "    markers = [str(\"\\\\\" + m) if m in re_symbols else m for m in markers]\n",
    "    matcher = r'[' + ''.join(markers) + ']'\n",
    "    \n",
    "    result = []\n",
    "    for line in string.split('\\n'):\n",
    "        result.append(re.split(matcher, line)[0].strip())\n",
    "    return '\\n'.join(result)"
   ]
  },
  {
   "cell_type": "code",
   "execution_count": 22,
   "metadata": {},
   "outputs": [],
   "source": [
    "import re\n",
    "\n",
    "def solution(string,markers):\n",
    "    for marker in markers:\n",
    "        string = re.sub(r' *?\\{}.*$'.format(marker),'', string, flags = re.M)\n",
    "    return string"
   ]
  },
  {
   "cell_type": "code",
   "execution_count": 23,
   "metadata": {},
   "outputs": [
    {
     "data": {
      "text/plain": [
       "'avocados lemons\\noranges bananas lemons apples oranges\\n\\n\\nstrawberries apples lemons'"
      ]
     },
     "execution_count": 23,
     "metadata": {},
     "output_type": "execute_result"
    }
   ],
   "source": [
    "solution('avocados lemons\\noranges bananas lemons apples oranges\\n.\\n? watermelons strawberries apples\\nstrawberries apples lemons ! strawberries', [',', '^', '-', '.', '!', '#', '=', '?', '@'])"
   ]
  },
  {
   "cell_type": "code",
   "execution_count": 24,
   "metadata": {},
   "outputs": [
    {
     "data": {
      "text/plain": [
       "'\\\\.\\\\^\\\\$\\\\*\\\\+\\\\?\\\\-'"
      ]
     },
     "execution_count": 24,
     "metadata": {},
     "output_type": "execute_result"
    }
   ],
   "source": [
    "from re import escape\n",
    "escape(\".^$*+?-\")"
   ]
  },
  {
   "cell_type": "code",
   "execution_count": 25,
   "metadata": {
    "collapsed": true
   },
   "outputs": [],
   "source": [
    "from collections import defaultdict\n",
    "from collections import Counter\n",
    "\n",
    "def is_merge(s, part1, part2):\n",
    "    if len(s) != len(part1 + part2):\n",
    "        return False\n",
    "    s = Counter(s)\n",
    "    s1 = Counter(part1 + part2)\n",
    "    print(s)\n",
    "    print(s1)\n",
    "    return s==s1  "
   ]
  },
  {
   "cell_type": "code",
   "execution_count": 26,
   "metadata": {},
   "outputs": [
    {
     "name": "stdout",
     "output_type": "stream",
     "text": [
      "Counter({'d': 1, 'o': 1, 'r': 1, 's': 1, 'c': 1, 'w': 1, 'a': 1, 'e': 1})\n",
      "Counter({'d': 1, 'o': 1, 'r': 1, 's': 1, 'c': 1, 'w': 1, 'a': 1, 'e': 1})\n"
     ]
    },
    {
     "data": {
      "text/plain": [
       "True"
      ]
     },
     "execution_count": 26,
     "metadata": {},
     "output_type": "execute_result"
    }
   ],
   "source": [
    "is_merge('codewars', 'code', 'wars')"
   ]
  },
  {
   "cell_type": "code",
   "execution_count": 27,
   "metadata": {
    "collapsed": true
   },
   "outputs": [],
   "source": [
    "import re\n",
    "def pig_it(text):\n",
    "    words  = text.split(\" \")\n",
    "    return \" \".join([word[1:] + word[:1]+\"ay\" if re.match(\"[a-zA-Z]\", word) else word for word in words])"
   ]
  },
  {
   "cell_type": "code",
   "execution_count": 28,
   "metadata": {},
   "outputs": [
    {
     "data": {
      "text/plain": [
       "'igPay atinlay siay oolcay'"
      ]
     },
     "execution_count": 28,
     "metadata": {},
     "output_type": "execute_result"
    }
   ],
   "source": [
    "pig_it('Pig latin is cool')"
   ]
  },
  {
   "cell_type": "code",
   "execution_count": 29,
   "metadata": {
    "collapsed": true
   },
   "outputs": [],
   "source": [
    "import re\n",
    "def to_camel_case(text):\n",
    "    if len(text) == 0:\n",
    "        return \"\"\n",
    "    return \"\".join([word.title() if ind > 0 else word \n",
    "                    for ind, word in enumerate(re.split(\"[-_]\", text))])"
   ]
  },
  {
   "cell_type": "code",
   "execution_count": 30,
   "metadata": {},
   "outputs": [
    {
     "data": {
      "text/plain": [
       "'theStealthWarrior'"
      ]
     },
     "execution_count": 30,
     "metadata": {},
     "output_type": "execute_result"
    }
   ],
   "source": [
    "to_camel_case(\"the-stealth_warrior\")"
   ]
  },
  {
   "cell_type": "code",
   "execution_count": 31,
   "metadata": {},
   "outputs": [],
   "source": [
    "def solution(roman):\n",
    "    numerals ={'M': 1000,'D': 500,'C': 100,'L': 50,'X': 10,'V': 5,'I': 1}\n",
    "    return sum([(-1) * numerals[letter] \n",
    "                if i < len(roman) - 1 and numerals[roman[i + 1]] > numerals[letter] \n",
    "                else numerals[letter] \n",
    "                for i, letter in enumerate(roman)])"
   ]
  },
  {
   "cell_type": "code",
   "execution_count": 32,
   "metadata": {},
   "outputs": [
    {
     "data": {
      "text/plain": [
       "1990"
      ]
     },
     "execution_count": 32,
     "metadata": {},
     "output_type": "execute_result"
    }
   ],
   "source": [
    "solution('MCMXC')"
   ]
  },
  {
   "cell_type": "code",
   "execution_count": 33,
   "metadata": {},
   "outputs": [],
   "source": [
    "import ipaddress\n",
    "import re\n",
    "def is_valid_IP(strng):\n",
    "    try:\n",
    "        ipaddress.ip_address(strng)\n",
    "        return True\n",
    "    except:\n",
    "        return False"
   ]
  },
  {
   "cell_type": "code",
   "execution_count": 34,
   "metadata": {},
   "outputs": [
    {
     "data": {
      "text/plain": [
       "True"
      ]
     },
     "execution_count": 34,
     "metadata": {},
     "output_type": "execute_result"
    }
   ],
   "source": [
    "is_valid_IP('12.255.56.1')"
   ]
  },
  {
   "cell_type": "code",
   "execution_count": 35,
   "metadata": {},
   "outputs": [
    {
     "data": {
      "text/plain": [
       "IPv4Address('192.168.0.101')"
      ]
     },
     "execution_count": 35,
     "metadata": {},
     "output_type": "execute_result"
    }
   ],
   "source": [
    "import ipaddress\n",
    "ipaddress.ip_address(\"192.168.0.101\")"
   ]
  },
  {
   "cell_type": "markdown",
   "metadata": {},
   "source": [
    "https://www.codewars.com/kata/529bf0e9bdf7657179000008/train/python\n"
   ]
  },
  {
   "cell_type": "code",
   "execution_count": 36,
   "metadata": {},
   "outputs": [],
   "source": [
    "def validSolution(board):\n",
    "    for i, row in enumerate(board):\n",
    "        if len(row) > len(set(row)):\n",
    "            return False\n",
    "        column = [row[i] for row in board]\n",
    "        if len(column) > len(set(column)):\n",
    "            return False\n",
    "    if not validate_blocks(board):\n",
    "        return False\n",
    "    return True\n",
    "\n",
    "def validate_blocks(board):\n",
    "    columnSums = [[sum(row[x:x + 3]) \n",
    "                    for x in range(0, 7, 3)] \n",
    "                  for row in board]\n",
    "    transpose = [[row[i]\n",
    "                    for row in columnSums]\n",
    "                  for i in range(3)]\n",
    "    final_pooled_list = [[sum(row[x:x + 3]) \n",
    "                          for x in range(0, 7, 3)] \n",
    "                         for row in transpose]\n",
    "\n",
    "    for row in final_pooled_list:\n",
    "        if not all(x == 45 for x in row):\n",
    "            return False\n",
    "    return True"
   ]
  },
  {
   "cell_type": "code",
   "execution_count": 37,
   "metadata": {},
   "outputs": [
    {
     "data": {
      "text/plain": [
       "False"
      ]
     },
     "execution_count": 37,
     "metadata": {},
     "output_type": "execute_result"
    }
   ],
   "source": [
    "validSolution([[1, 3, 2, 5, 7, 9, 4, 6, 8],\n",
    "               [4, 9, 8, 2, 6, 1, 3, 7, 5], \n",
    "               [7, 5, 6, 3, 8, 4, 2, 1, 9],\n",
    "               [6, 4, 3, 1, 5, 8, 7, 9, 2],\n",
    "               [5, 2, 1, 7, 9, 3, 8, 4, 6], \n",
    "               [9, 8, 7, 4, 2, 6, 5, 3, 1],\n",
    "               [2, 1, 4, 9, 3, 5, 6, 8, 7], \n",
    "               [3, 6, 5, 8, 1, 7, 9, 2, 4],\n",
    "               [8, 7, 9, 6, 4, 2, 1, 3, 5]])"
   ]
  },
  {
   "cell_type": "markdown",
   "metadata": {},
   "source": [
    "https://www.codewars.com/kata/540afbe2dc9f615d5e000425/train/python"
   ]
  },
  {
   "cell_type": "code",
   "execution_count": 38,
   "metadata": {},
   "outputs": [],
   "source": [
    "import math\n",
    "class Sudoku(object):\n",
    "    def __init__(self, board):\n",
    "        self.board = board\n",
    "        \n",
    "    def is_valid(self):\n",
    "        if len(self.board) == 1:\n",
    "            if str(self.board[0][0]).isdigit() and self.board[0][0] == 1:\n",
    "                return True\n",
    "\n",
    "        if not self.validate_size():\n",
    "            return False\n",
    "        if not self.validate_elements():\n",
    "            return False\n",
    "        if not self.validate_column_and_row():\n",
    "            return False\n",
    "        if not self.validate_blocks():\n",
    "            return False\n",
    "        return True\n",
    "      \n",
    "    def validate_column_and_row(self):\n",
    "        for i, row in enumerate(self.board):\n",
    "            if len(row) > len(set(row)):\n",
    "                return False\n",
    "            column = [row[i] for row in self.board]\n",
    "            if len(column) > len(set(column)):\n",
    "                return False\n",
    "        return True\n",
    "    \n",
    "    def validate_size(self):\n",
    "        \n",
    "        if len(self.board) < 3:\n",
    "            return False\n",
    "        \n",
    "        row_count = len(self.board)\n",
    "        \n",
    "        for row in self.board:\n",
    "            if len(row) != row_count:\n",
    "                return False\n",
    "        return True\n",
    "    \n",
    "    def validate_elements(self):\n",
    "        \n",
    "        for row in self.board:\n",
    "            if not all(str(x).isdigit() for x in row):\n",
    "                return False\n",
    "            \n",
    "        for row in self.board:\n",
    "            if not all(isinstance(x, int) for x in row):\n",
    "                return False\n",
    "        return True\n",
    "    \n",
    "    def validate_blocks(self):\n",
    "        lenght = len(self.board)\n",
    "        step = int(math.sqrt(lenght))\n",
    "        column_sums = [[sum(row[x:x + step]) \n",
    "                        for x in range(0, lenght - 1, step)] \n",
    "                      for row in self.board]\n",
    "        check_sum = (((lenght + 1) * lenght) // 2)\n",
    "        for j in range(0, lenght, step):\n",
    "            for i in range(lenght//step):\n",
    "                row_sum = sum([row[i] for row in column_sums[j: j+step]])\n",
    "                if row_sum != check_sum:\n",
    "                    return False\n",
    "        return True"
   ]
  },
  {
   "cell_type": "code",
   "execution_count": 39,
   "metadata": {},
   "outputs": [
    {
     "data": {
      "text/plain": [
       "False"
      ]
     },
     "execution_count": 39,
     "metadata": {},
     "output_type": "execute_result"
    }
   ],
   "source": [
    "board = [[1, 2, 3, 4, 5, 6, 7, 8, 9], \n",
    "          [2, 3, 1, 5, 6, 4, 8, 9, 7],\n",
    "          [3, 1, 2, 6, 4, 5, 9, 7, 8],\n",
    "          [4, 5, 6, 7, 8, 9, 1, 2, 3],\n",
    "          [5, 6, 4, 8, 9, 7, 2, 3, 1],\n",
    "          [6, 4, 5, 9, 7, 8, 3, 1, 2],\n",
    "          [7, 8, 9, 1, 2, 3, 4, 5, 6],\n",
    "          [8, 9, 7, 2, 3, 1, 5, 6, 4], \n",
    "          [9, 7, 8, 3, 1, 2, 6, 4, 5]]\n",
    "\n",
    "sud = Sudoku(board)\n",
    "sud.is_valid()"
   ]
  },
  {
   "cell_type": "code",
   "execution_count": 40,
   "metadata": {},
   "outputs": [],
   "source": [
    "a =[[5, 3, 4, 6, 7, 8, 9, 1, 2], \n",
    "                         [6, 7, 2, 1, 9, 5, 3, 4, 8],\n",
    "                         [1, 9, 8, 3, 4, 2, 5, 6, 7],\n",
    "                         [8, 5, 9, 7, 6, 1, 4, 2, 3],\n",
    "                         [4, 2, 6, 8, 5, 3, 7, 9, 1],\n",
    "                         [7, 1, 3, 9, 2, 4, 8, 5, 6],\n",
    "                         [9, 6, 1, 5, 3, 7, 2, 8, 4],\n",
    "                         [2, 8, 7, 4, 1, 9, 6, 3, 5],\n",
    "                         [3, 4, 5, 2, 8, 6, 1, 7, 9]]"
   ]
  },
  {
   "cell_type": "code",
   "execution_count": 41,
   "metadata": {},
   "outputs": [],
   "source": [
    "def validate_blocks(board):\n",
    "    columnSums = [[sum(row[x:x + 3]) \n",
    "                    for x in range(0, 7, 3)] \n",
    "                  for row in board]\n",
    "    transpose = [[row[i]\n",
    "                    for row in columnSums]\n",
    "                  for i in range(3)]\n",
    "    final_pooled_list = [[sum(row[x:x + 3]) \n",
    "                          for x in range(0, 7, 3)] \n",
    "                         for row in transpose]\n",
    "    for row in final_pooled_list:\n",
    "        if not all(x == 45 for x in row):\n",
    "            return False\n",
    "    return True"
   ]
  },
  {
   "cell_type": "code",
   "execution_count": 42,
   "metadata": {},
   "outputs": [
    {
     "data": {
      "text/plain": [
       "True"
      ]
     },
     "execution_count": 42,
     "metadata": {},
     "output_type": "execute_result"
    }
   ],
   "source": [
    "validate_blocks(a)"
   ]
  },
  {
   "cell_type": "code",
   "execution_count": 43,
   "metadata": {},
   "outputs": [],
   "source": [
    "import numpy as np\n",
    "def determinant(matrix):\n",
    "    \n",
    "    return round(np.linalg.det(matrix))"
   ]
  },
  {
   "cell_type": "code",
   "execution_count": 44,
   "metadata": {},
   "outputs": [
    {
     "data": {
      "text/plain": [
       "5.0"
      ]
     },
     "execution_count": 44,
     "metadata": {},
     "output_type": "execute_result"
    }
   ],
   "source": [
    "determinant([[5]])"
   ]
  },
  {
   "cell_type": "markdown",
   "metadata": {},
   "source": [
    "https://www.codewars.com/kata/51646de80fd67f442c000013/train/python"
   ]
  },
  {
   "cell_type": "code",
   "execution_count": 45,
   "metadata": {},
   "outputs": [],
   "source": [
    "from collections import defaultdict\n",
    "def strip_url_params(url, params_to_strip = []):\n",
    "    params_dict = defaultdict()\n",
    "    url = url.split('?')\n",
    "    if len(url) == 1:\n",
    "        return url[0]\n",
    "    \n",
    "    for p in url[1].split('&'):\n",
    "        param = p.split('=')[0]\n",
    "        if  param not in params_dict:\n",
    "            params_dict[param] = p\n",
    "    params_to_strip = params_to_strip[0] if params_to_strip else \"\" \n",
    "    return '?'.join([url[0],'&'.join([val for key, val in params_dict.items() if key != params_to_strip])])"
   ]
  },
  {
   "cell_type": "code",
   "execution_count": 46,
   "metadata": {},
   "outputs": [
    {
     "data": {
      "text/plain": [
       "'www.codewars.com?a=1'"
      ]
     },
     "execution_count": 46,
     "metadata": {},
     "output_type": "execute_result"
    }
   ],
   "source": [
    "strip_url_params('www.codewars.com?a=1&b=2&b=2', [\"b\"]) # returns 'www.codewars.com?a=1&b=2'"
   ]
  },
  {
   "cell_type": "code",
   "execution_count": 47,
   "metadata": {},
   "outputs": [
    {
     "data": {
      "text/plain": [
       "'2&1'"
      ]
     },
     "execution_count": 47,
     "metadata": {},
     "output_type": "execute_result"
    }
   ],
   "source": [
    "\"&\".join([val for key, val in {\"a\": \"1\", \"b\":\"2\"}.items()])"
   ]
  },
  {
   "cell_type": "code",
   "execution_count": 48,
   "metadata": {},
   "outputs": [],
   "source": [
    "def pick_peaks(arr):\n",
    "    result = dict({\"pos\":[], \"peaks\":[]})\n",
    "    last_peak = 0\n",
    "    for i, x in enumerate(arr):\n",
    "        if i != 0 and i != len(arr) - 1:\n",
    "            if arr[i - 1] < x >= arr[i + 1]:\n",
    "                if last_peak:\n",
    "                    result[\"pos\"].pop()\n",
    "                    result[\"peaks\"].pop()\n",
    "                result[\"pos\"].append(i)\n",
    "                result[\"peaks\"].append(x)\n",
    "                last_peak = x\n",
    "        if last_peak > x:\n",
    "            last_peak = 0\n",
    "    \n",
    "    if last_peak:\n",
    "        result[\"pos\"].pop()\n",
    "        result[\"peaks\"].pop()\n",
    "    return result"
   ]
  },
  {
   "cell_type": "code",
   "execution_count": 49,
   "metadata": {},
   "outputs": [
    {
     "data": {
      "text/plain": [
       "{'peaks': [5, 6, 5, 5], 'pos': [2, 7, 14, 20]}"
      ]
     },
     "execution_count": 49,
     "metadata": {},
     "output_type": "execute_result"
    }
   ],
   "source": [
    "pick_peaks([1, 2, 5, 4, 3, 2, 3, 6, 4, 1, 2, 3, 3, 4, 5, 3, 2, 1, 2, 3, 5, 5, 4, 3])"
   ]
  },
  {
   "cell_type": "markdown",
   "metadata": {},
   "source": [
    "https://www.codewars.com/kata/52a89c2ea8ddc5547a000863/train/python"
   ]
  },
  {
   "cell_type": "code",
   "execution_count": 50,
   "metadata": {},
   "outputs": [],
   "source": [
    "class Node(object):\n",
    "    def __init__(self, value):\n",
    "        self.value = value\n",
    "        self.next = None"
   ]
  },
  {
   "cell_type": "code",
   "execution_count": 51,
   "metadata": {
    "collapsed": true
   },
   "outputs": [],
   "source": [
    "def loop_size(node):\n",
    "    nodes = []\n",
    "    while node and node not in nodes:\n",
    "        nodes.append(node)\n",
    "        node = node.next\n",
    "        print(node)\n",
    "    if node:\n",
    "        return print(len(nodes) - nodes.index(node))\n",
    "    return 0"
   ]
  },
  {
   "cell_type": "code",
   "execution_count": 52,
   "metadata": {},
   "outputs": [
    {
     "name": "stdout",
     "output_type": "stream",
     "text": [
      "<__main__.Node object at 0x000002CEEC72E7B8>\n",
      "<__main__.Node object at 0x000002CEEC72E400>\n",
      "<__main__.Node object at 0x000002CEEC72EA58>\n",
      "None\n"
     ]
    },
    {
     "data": {
      "text/plain": [
       "0"
      ]
     },
     "execution_count": 52,
     "metadata": {},
     "output_type": "execute_result"
    }
   ],
   "source": [
    "node1 = Node(\"1\")\n",
    "node2 = Node(\"2\")\n",
    "node3 = Node(\"3\")\n",
    "node4 = Node(\"4\")\n",
    "node1.next = node2\n",
    "node2.next = node3\n",
    "node3.next = node4\n",
    "#node4.next = node2\n",
    "loop_size(node1)"
   ]
  },
  {
   "cell_type": "markdown",
   "metadata": {},
   "source": [
    "https://www.codewars.com/kata/base64-encoding/train/python"
   ]
  },
  {
   "cell_type": "code",
   "execution_count": 53,
   "metadata": {},
   "outputs": [],
   "source": [
    "def find_missing_letter(chars):\n",
    "    missing_letter = \"\"\n",
    "    letters = set(chars)\n",
    "    for l in range(ord(chars[0]), ord(chars.pop()) + 1):\n",
    "        if chr(l) not in letters:\n",
    "            missing_letter += chr(l)\n",
    "    return missing_letter"
   ]
  },
  {
   "cell_type": "code",
   "execution_count": 54,
   "metadata": {},
   "outputs": [
    {
     "data": {
      "text/plain": [
       "'e'"
      ]
     },
     "execution_count": 54,
     "metadata": {},
     "output_type": "execute_result"
    }
   ],
   "source": [
    "find_missing_letter(['a','b','c','d','f'])"
   ]
  },
  {
   "cell_type": "code",
   "execution_count": 55,
   "metadata": {
    "collapsed": true
   },
   "outputs": [],
   "source": [
    "class Node(object):\n",
    "    def __init__(self, data):\n",
    "        self.data = data\n",
    "        self.next = None\n",
    "    \n",
    "def length(node):\n",
    "    counter = 0\n",
    "    while node:\n",
    "        counter += 1\n",
    "        node = node.next\n",
    "    return counter\n",
    "\n",
    "def count(node, data):\n",
    "    counter = 0\n",
    "    while node:\n",
    "        if node.data == data:\n",
    "            counter += 1\n",
    "        node = node.next\n",
    "    return counter"
   ]
  },
  {
   "cell_type": "markdown",
   "metadata": {},
   "source": [
    "https://www.codewars.com/kata/linked-lists-remove-duplicates/train/python"
   ]
  },
  {
   "cell_type": "code",
   "execution_count": 56,
   "metadata": {
    "collapsed": true
   },
   "outputs": [],
   "source": [
    "class Node(object):\n",
    "    def __init__(self, data):\n",
    "        self.data = data\n",
    "        self.next = None\n",
    "\n",
    "def remove_duplicates(head):\n",
    "    if head == None:\n",
    "        return head\n",
    "    current = head\n",
    "    next = current.next\n",
    "    while next:\n",
    "        if current.data == next.data:\n",
    "            current.next = current.next.next\n",
    "            next = current.next\n",
    "        else:\n",
    "            current = next\n",
    "            next = current.next\n",
    "    return head"
   ]
  },
  {
   "cell_type": "code",
   "execution_count": 57,
   "metadata": {},
   "outputs": [
    {
     "name": "stdout",
     "output_type": "stream",
     "text": [
      "1\n",
      "2\n",
      "3\n",
      "2\n"
     ]
    }
   ],
   "source": [
    "node1 = Node(1)\n",
    "node2 = Node(2)\n",
    "node3 = Node(3)\n",
    "node4 = Node(2)\n",
    "node1.next = node2\n",
    "node2.next = node3\n",
    "node3.next = node4\n",
    "node = remove_duplicates(node1)\n",
    "while node:\n",
    "    print(node.data)\n",
    "    node = node.next"
   ]
  },
  {
   "cell_type": "code",
   "execution_count": 58,
   "metadata": {
    "collapsed": true
   },
   "outputs": [],
   "source": [
    "def search_k_from_end(linked_list, k):\n",
    "    a = b = linked_list.head\n",
    "    \n",
    "    for __ in xrange(k - 1):\n",
    "        b = b.next\n",
    "        if not b:\n",
    "            return None\n",
    "        \n",
    "    while b.next:\n",
    "        a, b = a.next, b.next\n",
    "        \n",
    "    return a.data"
   ]
  },
  {
   "cell_type": "markdown",
   "metadata": {},
   "source": [
    "http://www.codewars.com/kata/linked-lists-insert-nth-node/train/python"
   ]
  },
  {
   "cell_type": "code",
   "execution_count": 59,
   "metadata": {
    "collapsed": true
   },
   "outputs": [],
   "source": [
    "class Node(object):\n",
    "    def __init__(self, data):\n",
    "        self.data = data\n",
    "        self.next = None\n",
    "    \n",
    "def insert_nth(head, index, data):\n",
    "    if not head:\n",
    "        return Node(data)\n",
    "    current = head\n",
    "    size = 0\n",
    "    while current:\n",
    "        size += 1\n",
    "        current = current.next\n",
    "    if size < index:\n",
    "        raise ValueError(\"Invalid index value should raise error\")\n",
    "    counter = 0\n",
    "    current = head\n",
    "    before_current = None\n",
    "    for _ in range(size + 1):\n",
    "        if counter == index:\n",
    "            node = Node(data)\n",
    "            node.next = current \n",
    "            current = node\n",
    "            if counter == 0:\n",
    "                head = current\n",
    "            else:\n",
    "                before_current.next = current\n",
    "        before_current = current   \n",
    "        current = current.next\n",
    "        counter += 1\n",
    "    return head"
   ]
  },
  {
   "cell_type": "code",
   "execution_count": 60,
   "metadata": {},
   "outputs": [],
   "source": [
    "# node1 = Node(1)\n",
    "# node2 = Node(2)\n",
    "# node3 = Node(3)\n",
    "# #node4 = Node(2)\n",
    "# node1.next = node2\n",
    "# node2.next = node3\n",
    "# #node3.next = node4\n",
    "# node = insert_nth(node1, 4, 5)\n",
    "# while node:\n",
    "#     print(node.data)\n",
    "#     node = node.next\n",
    "    "
   ]
  },
  {
   "cell_type": "code",
   "execution_count": 61,
   "metadata": {},
   "outputs": [],
   "source": [
    "from collections import defaultdict\n",
    "class PaginationHelper:\n",
    "    # The constructor takes in an array of items and a integer indicating\n",
    "    # how many items fit within a single page\n",
    "    def __init__(self, collection, items_per_page):\n",
    "        self.collection = collection\n",
    "        self.items_per_page = items_per_page\n",
    "        self.pages = []\n",
    "        self.indices = defaultdict(int)\n",
    "        self.split()\n",
    "    \n",
    "    def split(self):\n",
    "        number = 0\n",
    "        for i in range(0, len(self.collection), self.items_per_page):\n",
    "            temp_list = self.collection[i:i + self.items_per_page]\n",
    "            self.pages.append(temp_list)\n",
    "            for j, _ in enumerate(temp_list):\n",
    "                element = temp_list[j]\n",
    "                self.indices[self.collection.index(element)] = number\n",
    "            number += 1\n",
    "        \n",
    "    # returns the number of items within the entire collection\n",
    "    def item_count(self):\n",
    "        return len(self.collection)\n",
    "\n",
    "    # returns the number of pages\n",
    "    def page_count(self):\n",
    "        return len(self.pages)\n",
    "\n",
    "    # returns the number of items on the current page. page_index is zero based\n",
    "    # this method should return -1 for page_index values that are out of range\n",
    "    def page_item_count(self, page_index):\n",
    "        return len(self.pages[page_index]) if page_index < len(self.pages) else -1\n",
    "\n",
    "    # determines what page an item is on. Zero based indexes.\n",
    "    # this method should return -1 for item_index values that are out of range\n",
    "    def page_index(self, item_index):\n",
    "         return self.indices[item_index] if 0 <= item_index < len(self.collection) else -1"
   ]
  },
  {
   "cell_type": "code",
   "execution_count": 62,
   "metadata": {},
   "outputs": [
    {
     "name": "stdout",
     "output_type": "stream",
     "text": [
      "2# should == 2\n",
      "6# should == 6\n",
      "4# should == 4\n",
      "2# last page - should == 2\n",
      "-1# should == -1 since the page is invalid\n",
      "1# should == 1 (zero based index)\n",
      "0# should == 0\n",
      "-1# should == -1\n",
      "-1# should == -1 because negative indexes are invalid\n"
     ]
    }
   ],
   "source": [
    "helper = PaginationHelper(['a','b','c','d','e','f'], 4)\n",
    "print(str(helper.page_count()) + \"# should == 2\")\n",
    "print(str(helper.item_count()) + \"# should == 6\")\n",
    "print(str(helper.page_item_count(0)) + \"# should == 4\")\n",
    "print(str(helper.page_item_count(1)) + \"# last page - should == 2\")\n",
    "print(str(helper.page_item_count(2)) + \"# should == -1 since the page is invalid\")\n",
    "\n",
    "# page_ndex takes an item index and returns the page that it belongs on\n",
    "print(str(helper.page_index(5)) + \"# should == 1 (zero based index)\")\n",
    "print(str(helper.page_index(2)) + \"# should == 0\")\n",
    "print(str(helper.page_index(20)) + \"# should == -1\")\n",
    "print(str(helper.page_index(-10)) + \"# should == -1 because negative indexes are invalid\")"
   ]
  },
  {
   "cell_type": "code",
   "execution_count": 63,
   "metadata": {},
   "outputs": [],
   "source": [
    "def spiralize(size):\n",
    "    # Make a snake\n",
    "    zero_sequents = [0 for _ in range(size*size)]\n",
    "    return [zero_sequents[i: i + size]]"
   ]
  },
  {
   "cell_type": "code",
   "execution_count": 64,
   "metadata": {
    "collapsed": true
   },
   "outputs": [],
   "source": [
    "class Node(object):\n",
    "    def __init__(self, data):\n",
    "        self.data = data\n",
    "        self.next = None\n",
    "\n",
    "def append(listA, listB):\n",
    "    if not listA and not listB:\n",
    "        return None\n",
    "    \n",
    "    if not listA:\n",
    "        return listB\n",
    "    \n",
    "    if not listB:\n",
    "        return listA\n",
    "    node = listA\n",
    "    \n",
    "    while node.next:\n",
    "        node = node.next\n",
    "    node.next = listB\n",
    "    return listA"
   ]
  },
  {
   "cell_type": "code",
   "execution_count": 65,
   "metadata": {},
   "outputs": [
    {
     "name": "stdout",
     "output_type": "stream",
     "text": [
      "1\n",
      "2\n",
      "3\n",
      "4\n",
      "5\n",
      "6\n",
      "7\n",
      "8\n"
     ]
    }
   ],
   "source": [
    "node1 = Node(1)\n",
    "node2 = Node(2)\n",
    "node3 = Node(3)\n",
    "node4 = Node(4)\n",
    "node1.next = node2\n",
    "node2.next = node3\n",
    "node3.next = node4\n",
    "\n",
    "node5 = Node(5)\n",
    "node6 = Node(6)\n",
    "node7 = Node(7)\n",
    "node8 = Node(8)\n",
    "node5.next = node6\n",
    "node6.next = node7\n",
    "node7.next = node8\n",
    "\n",
    "node = append(node1, node5)\n",
    "while node:\n",
    "    print(node.data)\n",
    "    node = node.next"
   ]
  },
  {
   "cell_type": "markdown",
   "metadata": {},
   "source": [
    "http://www.codewars.com/kata/linked-lists-iterative-reverse/train/python"
   ]
  },
  {
   "cell_type": "code",
   "execution_count": 66,
   "metadata": {
    "collapsed": true
   },
   "outputs": [],
   "source": [
    "class Node(object):\n",
    "    def __init__(self, data=None):\n",
    "        self.data = data\n",
    "        self.next = None\n",
    "\n",
    "def reverse(head):\n",
    "    current = head\n",
    "    previous = None\n",
    "    nextnode = None\n",
    "    \n",
    "    while current:\n",
    "        nextnode = current.next\n",
    "        current.next = previous\n",
    "        previous = current\n",
    "        current = nextnode\n",
    "    head = previous"
   ]
  },
  {
   "cell_type": "code",
   "execution_count": 67,
   "metadata": {},
   "outputs": [
    {
     "name": "stdout",
     "output_type": "stream",
     "text": [
      "1\n"
     ]
    }
   ],
   "source": [
    "node1 = Node(1)\n",
    "# node2 = Node(2)\n",
    "node3 = Node(3)\n",
    "# node4 = Node(4)\n",
    "node1.next = node3\n",
    "#node2.next = node3\n",
    "#node3.next = node4\n",
    "reverse(node1)\n",
    "node = node1\n",
    "while node:\n",
    "    print(node.data)\n",
    "    node = node.next"
   ]
  },
  {
   "cell_type": "code",
   "execution_count": 68,
   "metadata": {},
   "outputs": [],
   "source": [
    "import string\n",
    "\n",
    "def moving_shift(s, shift):\n",
    "    alphabet = list(string.ascii_lowercase)\n",
    "    print(alphabet)\n",
    "    result = \"\"\n",
    "    for i, let in enumerate(s):\n",
    "        if not let.isalpha():\n",
    "            result += let\n",
    "            continue\n",
    "            \n",
    "        #number = alphabet.index((let.lower()))\n",
    "        number = i % 26\n",
    "        result += alphabet[number]\n",
    "    return result"
   ]
  },
  {
   "cell_type": "code",
   "execution_count": 69,
   "metadata": {},
   "outputs": [
    {
     "name": "stdout",
     "output_type": "stream",
     "text": [
      "['a', 'b', 'c', 'd', 'e', 'f', 'g', 'h', 'i', 'j', 'k', 'l', 'm', 'n', 'o', 'p', 'q', 'r', 's', 't', 'u', 'v', 'w', 'x', 'y', 'z']\n"
     ]
    },
    {
     "data": {
      "text/plain": [
       "'a cdefgh jklm opqrs '"
      ]
     },
     "execution_count": 69,
     "metadata": {},
     "output_type": "execute_result"
    }
   ],
   "source": [
    "moving_shift(\"I should have known \", 1)"
   ]
  },
  {
   "cell_type": "code",
   "execution_count": 70,
   "metadata": {},
   "outputs": [
    {
     "data": {
      "text/plain": [
       "66"
      ]
     },
     "execution_count": 70,
     "metadata": {},
     "output_type": "execute_result"
    }
   ],
   "source": [
    "len(\"I should have known that you would have a perfect answer for me!!!\")"
   ]
  },
  {
   "cell_type": "code",
   "execution_count": 71,
   "metadata": {},
   "outputs": [],
   "source": [
    "import math\n",
    "def stats_disc_distr(distrib):\n",
    "    exeptions = []\n",
    "    exeptions.append(sum([i[1] for i in distrib]) != 1)\n",
    "    exeptions.append(not all(isinstance(i[0], int) or i[0] == 0.0 for i in distrib))\n",
    "    \n",
    "    if exeptions[0] and exeptions[1]:\n",
    "        return \"It's not a valid distribution and furthermore, one or more variable value are not integers\"\n",
    "    \n",
    "    if exeptions[0]:\n",
    "        return \"It's not a valid distribution\"\n",
    "    \n",
    "    if exeptions[1]:\n",
    "        return \"All the variable values should be integers\"\n",
    "    \n",
    "    mean = sum([i[0] * i[1] for i in distrib])\n",
    "    var = sum([pow(i[0] - mean, 2) * i[1] for i in distrib])\n",
    "    std_dev = math.sqrt(var)\n",
    "    \n",
    "    return [mean, var, std_dev]"
   ]
  },
  {
   "cell_type": "code",
   "execution_count": 72,
   "metadata": {},
   "outputs": [
    {
     "name": "stdout",
     "output_type": "stream",
     "text": [
      "1.0000000000000002\n"
     ]
    },
    {
     "data": {
      "text/plain": [
       "\"It's not a valid distribution\""
      ]
     },
     "execution_count": 72,
     "metadata": {},
     "output_type": "execute_result"
    }
   ],
   "source": [
    "distrib = [[4, 0.0001], [5, 0.0004], [6, 0.001],\n",
    "           [7, 0.002], [8, 0.0035], [9, 0.0056],\n",
    "           [10, 0.0084], [11, 0.012], [12, 0.0165],\n",
    "           [13, 0.022], [14, 0.0282], [15, 0.0348],\n",
    "           [16, 0.0415], [17, 0.048], [18, 0.054],\n",
    "           [19, 0.0592], [20, 0.0633], [21, 0.066], \n",
    "           [22, 0.067], [23, 0.066], [24, 0.0633], \n",
    "           [25, 0.0592], [26, 0.054], [27, 0.048], \n",
    "           [28, 0.0415], [29, 0.0348], [30, 0.0282],\n",
    "           [31, 0.022], [32, 0.0165], [33, 0.012], \n",
    "           [34, 0.0084], [35, 0.0056], [36, 0.0035], \n",
    "           [37, 0.002], [38, 0.001], [39, 0.0004], [40, 0.0001]]\n",
    "print(sum([i[1] for i in distrib]))\n",
    "res = stats_disc_distr(distrib)\n",
    "res"
   ]
  },
  {
   "cell_type": "code",
   "execution_count": 73,
   "metadata": {},
   "outputs": [],
   "source": [
    "def quicksort(arr):\n",
    "    if len(arr) < 1: return arr\n",
    "    p = arr[0]\n",
    "    return quicksort(map(lambda x: x < p, arr[::-1])) + quicksort(map(lambda x: x > p, arr[2:]))"
   ]
  },
  {
   "cell_type": "markdown",
   "metadata": {},
   "source": [
    "https://www.codewars.com/kata/5877e7d568909e5ff90017e6/train/python"
   ]
  },
  {
   "cell_type": "code",
   "execution_count": 74,
   "metadata": {},
   "outputs": [],
   "source": [
    "def find_all(sum_dig, digs):\n",
    "    # your code here\n",
    "    return []"
   ]
  },
  {
   "cell_type": "code",
   "execution_count": 75,
   "metadata": {},
   "outputs": [
    {
     "data": {
      "text/plain": [
       "<function __main__.find_all>"
      ]
     },
     "execution_count": 75,
     "metadata": {},
     "output_type": "execute_result"
    }
   ],
   "source": [
    "find_all"
   ]
  },
  {
   "cell_type": "code",
   "execution_count": 76,
   "metadata": {
    "collapsed": true
   },
   "outputs": [],
   "source": [
    "def hiAskat():\n",
    "    print(\"hi Askat\")\n",
    "    \n",
    "def hiAkram():\n",
    "    print(\"hi Akram\")\n",
    "\n",
    "def hiMan():\n",
    "    print(\"hi Man\")\n",
    "    \n",
    "options = {\"askat\": hiAskat, \"akram\": hiAkram, \"man\": hiMan}\n",
    "\n",
    "def switch(option):\n",
    "    options[option]()"
   ]
  },
  {
   "cell_type": "code",
   "execution_count": 77,
   "metadata": {},
   "outputs": [],
   "source": [
    "class TicTacToe:\n",
    "    \n",
    "    def __init__(self):\n",
    "        self._board = [[' '] * 3 for i in range(3)]\n",
    "        self._player = 'X'\n",
    "    \n",
    "    def mark(self, i, j):\n",
    "        if not (0 <= i <= 2 and 0 <= j <= 2):\n",
    "            raise ValueError('Invalid board position')\n",
    "        if self._board[i][j] != ' ':\n",
    "            raise ValueError('Board position occupied')\n",
    "        if self.winner() is not None:\n",
    "            raise ValueError('Game is already complete')\n",
    "        \n",
    "        self._board[i][j] = self._player\n",
    "        if self._player == 'X':\n",
    "            self._player = 'O'\n",
    "        else:\n",
    "            self._player = 'X'\n",
    "    \n",
    "    def _is_win(self, mark):\n",
    "        board = self._board\n",
    "        return (mark == board[0][0] == board[0][1] == board[0][2] or # row 0\n",
    "            mark == board[1][0] == board[1][1] == board[1][2] or # row 1\n",
    "            mark == board[2][0] == board[2][1] == board[2][2] or # row 2\n",
    "            mark == board[0][0] == board[1][0] == board[2][0] or # column 0\n",
    "            mark == board[0][1] == board[1][1] == board[2][1] or # column 1\n",
    "            mark == board[0][2] == board[1][2] == board[2][2] or # column 2\n",
    "            mark == board[0][0] == board[1][1] == board[2][2] or # diagonal\n",
    "            mark == board[0][2] == board[1][1] == board[2][0])\n",
    "    \n",
    "    def winner(self):\n",
    "        for mark in 'XO':\n",
    "            if self._is_win(mark):\n",
    "                return mark\n",
    "        return None\n",
    "    \n",
    "    def __str__(self):\n",
    "        rows = ['|'.join(self._board[r]) for r in range(3)]\n",
    "        return '\\n-----\\n'.join(rows)"
   ]
  },
  {
   "cell_type": "code",
   "execution_count": 78,
   "metadata": {},
   "outputs": [
    {
     "name": "stdout",
     "output_type": "stream",
     "text": [
      "O|X|O\n",
      "-----\n",
      "O|X|X\n",
      "-----\n",
      "X|O|X\n"
     ]
    }
   ],
   "source": [
    "game = TicTacToe()\n",
    "game.mark(1, 1); game.mark(0, 2)\n",
    "game.mark(2, 2); game.mark(0, 0)\n",
    "game.mark(0, 1); game.mark(2, 1)\n",
    "game.mark(1, 2); game.mark(1, 0)\n",
    "game.mark(2, 0)\n",
    "print(game)"
   ]
  },
  {
   "cell_type": "markdown",
   "metadata": {},
   "source": [
    "https://www.codewars.com/kata/fractions-class/train/python"
   ]
  },
  {
   "cell_type": "markdown",
   "metadata": {},
   "source": [
    "41/175\n",
    "629/728"
   ]
  },
  {
   "cell_type": "code",
   "execution_count": 79,
   "metadata": {
    "collapsed": true
   },
   "outputs": [],
   "source": [
    "from math import gcd\n",
    "\n",
    "class Fraction:\n",
    "\n",
    "    def __init__(self, numerator, denominator):\n",
    "        self.top = numerator\n",
    "        self.bottom = denominator\n",
    "    \n",
    "    def __eq__(self, other):\n",
    "        first_num = self.top * other.bottom\n",
    "        second_num = other.top * self.bottom\n",
    "        return first_num == second_num\n",
    "    \n",
    "    def __add__(self, other):\n",
    "        lcm = self.lcm(self.bottom, other.bottom)\n",
    "        self.top = self.top * (lcm // self.bottom) + other.top * (lcm // other.bottom)\n",
    "        self.bottom = lcm\n",
    "        return self\n",
    "    \n",
    "    def __str__(self):\n",
    "        return \"{}/{}\".format(self.top, self.bottom)\n",
    "    \n",
    "    def lcm(self, a, b):\n",
    "        return abs(a * b) // gcd(a,b) if a and b else 0"
   ]
  },
  {
   "cell_type": "code",
   "execution_count": 80,
   "metadata": {},
   "outputs": [
    {
     "name": "stdout",
     "output_type": "stream",
     "text": [
      "False\n",
      "19989/18200\n"
     ]
    }
   ],
   "source": [
    "a = Fraction(41, 175) + Fraction(629, 728)\n",
    "print(a == Fraction(37,40))\n",
    "print(a)"
   ]
  },
  {
   "cell_type": "code",
   "execution_count": 81,
   "metadata": {},
   "outputs": [
    {
     "data": {
      "text/plain": [
       "(6800435437329449, 4503599627370496)"
      ]
     },
     "execution_count": 81,
     "metadata": {},
     "output_type": "execute_result"
    }
   ],
   "source": [
    "float.as_integer_ratio(1.51)"
   ]
  },
  {
   "cell_type": "code",
   "execution_count": 82,
   "metadata": {},
   "outputs": [
    {
     "data": {
      "text/plain": [
       "(4946288623709277, 4503599627370496)"
      ]
     },
     "execution_count": 82,
     "metadata": {},
     "output_type": "execute_result"
    }
   ],
   "source": [
    "a = (41/175) + (629/728)\n",
    "float.as_integer_ratio(a)"
   ]
  },
  {
   "cell_type": "code",
   "execution_count": 83,
   "metadata": {
    "collapsed": true
   },
   "outputs": [],
   "source": [
    "from math import gcd\n",
    "def lcm(a,b):\n",
    "    return abs(a * b) / gcd(a,b) if a and b else 0"
   ]
  },
  {
   "cell_type": "code",
   "execution_count": 84,
   "metadata": {},
   "outputs": [
    {
     "data": {
      "text/plain": [
       "45390.0"
      ]
     },
     "execution_count": 84,
     "metadata": {},
     "output_type": "execute_result"
    }
   ],
   "source": [
    "lcm(510,445)"
   ]
  },
  {
   "cell_type": "code",
   "execution_count": 85,
   "metadata": {},
   "outputs": [
    {
     "data": {
      "text/plain": [
       "7.666666666666667"
      ]
     },
     "execution_count": 85,
     "metadata": {},
     "output_type": "execute_result"
    }
   ],
   "source": [
    "6141/801"
   ]
  },
  {
   "cell_type": "code",
   "execution_count": 86,
   "metadata": {},
   "outputs": [
    {
     "data": {
      "text/plain": [
       "Fraction(761, 259)"
      ]
     },
     "execution_count": 86,
     "metadata": {},
     "output_type": "execute_result"
    }
   ],
   "source": [
    "from fractions import Fraction\n",
    "Fraction(532,629) + Fraction(498,238)"
   ]
  },
  {
   "cell_type": "markdown",
   "metadata": {},
   "source": [
    "https://www.codewars.com/kata/mexican-wave/train/python"
   ]
  },
  {
   "cell_type": "code",
   "execution_count": 32,
   "metadata": {},
   "outputs": [],
   "source": [
    "def wave(str):\n",
    "    return [str[:i] + el.upper() + str[i + 1:] for i, el in enumerate(str) if el != \" \"]"
   ]
  },
  {
   "cell_type": "code",
   "execution_count": 33,
   "metadata": {},
   "outputs": [
    {
     "name": "stdout",
     "output_type": "stream",
     "text": [
      "['Asanaliev', 'aSanaliev', 'asAnaliev', 'asaNaliev', 'asanAliev', 'asanaLiev', 'asanalIev', 'asanaliEv', 'asanalieV']\n"
     ]
    }
   ],
   "source": [
    "print(wave(\"asanaliev\"))"
   ]
  }
 ],
 "metadata": {
  "kernelspec": {
   "display_name": "Python 3",
   "language": "python",
   "name": "python3"
  },
  "language_info": {
   "codemirror_mode": {
    "name": "ipython",
    "version": 3
   },
   "file_extension": ".py",
   "mimetype": "text/x-python",
   "name": "python",
   "nbconvert_exporter": "python",
   "pygments_lexer": "ipython3",
   "version": "3.6.1"
  }
 },
 "nbformat": 4,
 "nbformat_minor": 1
}
